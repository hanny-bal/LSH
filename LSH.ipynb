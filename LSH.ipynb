{
 "cells": [
  {
   "attachments": {},
   "cell_type": "markdown",
   "metadata": {},
   "source": [
    "# Locality Sensitive Hashing\n",
    "A Python implementation for the [Introduction to Big Data Algorithms](https://sites.google.com/view/ibda-summer23/home) course at the [University of Salzburg](https://www.plus.ac.at/) in the summer semester 2023."
   ]
  },
  {
   "attachments": {},
   "cell_type": "markdown",
   "metadata": {},
   "source": [
    "## 1. Shingling\n",
    "A $k$-shingle for a document is a sequence of $k$ tokens that appears in the document. In our case, the tokens will be characters. With the help of shingling, we can represent a document as the set of contained $k$-shingles. This way, the ordering of words (and some context) is preserved. To compress the size of individual shingles, it makes sense to hash them to an integer value, e.g. of 4 bytes."
   ]
  },
  {
   "cell_type": "code",
   "execution_count": null,
   "metadata": {},
   "outputs": [],
   "source": []
  }
 ],
 "metadata": {
  "language_info": {
   "name": "python"
  },
  "orig_nbformat": 4
 },
 "nbformat": 4,
 "nbformat_minor": 2
}
